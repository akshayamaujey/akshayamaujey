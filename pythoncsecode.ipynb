{
  "nbformat": 4,
  "nbformat_minor": 0,
  "metadata": {
    "colab": {
      "provenance": [],
      "authorship_tag": "ABX9TyM2smSeP/vkBnFHpEHTi1ZT",
      "include_colab_link": true
    },
    "kernelspec": {
      "name": "python3",
      "display_name": "Python 3"
    },
    "language_info": {
      "name": "python"
    }
  },
  "cells": [
    {
      "cell_type": "markdown",
      "metadata": {
        "id": "view-in-github",
        "colab_type": "text"
      },
      "source": [
        "<a href=\"https://colab.research.google.com/github/akshayamaujey/akshayamaujey/blob/main/pythoncsecode.ipynb\" target=\"_parent\"><img src=\"https://colab.research.google.com/assets/colab-badge.svg\" alt=\"Open In Colab\"/></a>"
      ]
    },
    {
      "cell_type": "markdown",
      "source": [
        "Write  a python program to create a class representing a circle. Include methods to calculate its area and perimeter.\n"
      ],
      "metadata": {
        "id": "cHGoyn4TWMh3"
      }
    },
    {
      "cell_type": "code",
      "execution_count": 7,
      "metadata": {
        "colab": {
          "base_uri": "https://localhost:8080/"
        },
        "id": "Qj-cwKabGoGw",
        "outputId": "685bb69c-79ba-4f60-ab12-d4145c4ca664"
      },
      "outputs": [
        {
          "output_type": "stream",
          "name": "stdout",
          "text": [
            "200.96\n",
            "50.24\n"
          ]
        }
      ],
      "source": [
        "class circle():\n",
        "\n",
        "   def __init__(self,r):\n",
        "    self.radius=r\n",
        "   def area(self):\n",
        "    return  self.radius**2*3.14\n",
        "   def perimeter(self):\n",
        "    return 2*3.14*self.radius\n",
        "ncircle=circle(8)\n",
        "print(ncircle.area())\n",
        "print(ncircle.perimeter())\n"
      ]
    },
    {
      "cell_type": "markdown",
      "source": [
        "Q 14 Create the following Dataframe sales containing year wise sales figure for five sales person in INR. Use the years as column labels and sales person names as row labels"
      ],
      "metadata": {
        "id": "XkLW4jo7WCLi"
      }
    },
    {
      "cell_type": "code",
      "source": [
        "import pandas as pd\n",
        "inr2014=[100.5, 150.6, 200.9, 3000, 5000]\n",
        "inr2015=[1200, 1800, 2200, 5000, 6000]\n",
        "inr2016=[2000, 5000, 4000, 7000, 8000]\n",
        "inr2017=[4000, 5500, 6500, 8000, 10000]\n",
        "\n",
        "label=['Ankit','Zanneen','Sumit','Akshada','Shruti']\n",
        "dic={'2014':inr2014, '2015':inr2015, '2016':inr2016, '2017':inr2017}\n",
        "Sales  = pd.DataFrame(dic,index=label)\n",
        "print(Sales)\n"
      ],
      "metadata": {
        "colab": {
          "base_uri": "https://localhost:8080/"
        },
        "id": "ghSbUTCAIfuf",
        "outputId": "5fe0e9a1-4fcb-46ef-d1b1-0dd347041e58"
      },
      "execution_count": 8,
      "outputs": [
        {
          "output_type": "stream",
          "name": "stdout",
          "text": [
            "           2014  2015  2016   2017\n",
            "Ankit     100.5  1200  2000   4000\n",
            "Zanneen   150.6  1800  5000   5500\n",
            "Sumit     200.9  2200  4000   6500\n",
            "Akshada  3000.0  5000  7000   8000\n",
            "Shruti   5000.0  6000  8000  10000\n"
          ]
        }
      ]
    },
    {
      "cell_type": "markdown",
      "source": [
        "write a python function to sum all numbers in a list"
      ],
      "metadata": {
        "id": "gTLy9ezAKewc"
      }
    },
    {
      "cell_type": "code",
      "source": [
        "def sum_all(numbers):\n",
        "  total=0\n",
        "  for x in numbers:\n",
        "     total+= x\n",
        "  return total\n",
        "print(sum_all((2,3,4,5,6)))"
      ],
      "metadata": {
        "colab": {
          "base_uri": "https://localhost:8080/"
        },
        "id": "tykJYD9UKdY8",
        "outputId": "e2e1867a-9447-473a-8d78-cc9a5cc01e5a"
      },
      "execution_count": 24,
      "outputs": [
        {
          "output_type": "stream",
          "name": "stdout",
          "text": [
            "20\n"
          ]
        }
      ]
    },
    {
      "cell_type": "markdown",
      "source": [],
      "metadata": {
        "id": "j7gVx7l5NIay"
      }
    },
    {
      "cell_type": "code",
      "source": [
        "def sum(numbers):\n",
        "  total = 0\n",
        "  for x in numbers:\n",
        "      total += x\n",
        "  return total\n",
        "print(sum((8, 2, 3, 0, 7)))\n",
        "\n"
      ],
      "metadata": {
        "colab": {
          "base_uri": "https://localhost:8080/"
        },
        "id": "SMqbjKp1LIno",
        "outputId": "4e1776e8-dd81-4db1-cad8-771a98a53772"
      },
      "execution_count": 19,
      "outputs": [
        {
          "output_type": "stream",
          "name": "stdout",
          "text": [
            "20\n"
          ]
        }
      ]
    },
    {
      "cell_type": "code",
      "source": [
        "\n",
        "def sum_list(numbers):\n",
        "  total = 0\n",
        "  for num in numbers:\n",
        "    total += num\n",
        "  return total\n",
        "\n",
        "# Example usage\n",
        "numbers = [1, 2, 3, 4, 5]\n",
        "result = sum_list(numbers)\n",
        "print(result)\n",
        "\n"
      ],
      "metadata": {
        "colab": {
          "base_uri": "https://localhost:8080/"
        },
        "id": "m6Zo4eH1LuMg",
        "outputId": "be1fc90a-facb-443e-8ba8-e7dcb5d439a6"
      },
      "execution_count": 18,
      "outputs": [
        {
          "output_type": "stream",
          "name": "stdout",
          "text": [
            "15\n"
          ]
        }
      ]
    },
    {
      "cell_type": "markdown",
      "source": [
        " 2.Write a Python function to calculate the factorial of a number (a non-negative integer). The function accepts the number as an argument.\n"
      ],
      "metadata": {
        "id": "IuPsFYWLNKeR"
      }
    },
    {
      "cell_type": "code",
      "source": [
        "def factorial(n):\n",
        "  if n==0:\n",
        "    return 1\n",
        "  else:\n",
        "     return n*(n-1)\n",
        "n=int(input(\"enter the number for getting its factorial:\"))\n",
        "print(factorial(n))"
      ],
      "metadata": {
        "colab": {
          "base_uri": "https://localhost:8080/"
        },
        "id": "CLgehX8MNL7f",
        "outputId": "94d34b1a-56cb-4da7-922c-4cac6c21e67b"
      },
      "execution_count": 28,
      "outputs": [
        {
          "output_type": "stream",
          "name": "stdout",
          "text": [
            "enter the number for getting its factorial:0\n",
            "1\n"
          ]
        }
      ]
    },
    {
      "cell_type": "markdown",
      "source": [
        "Q 3 Write a Python program to print the even numbers from a given list"
      ],
      "metadata": {
        "id": "qpYp-Am1SBGn"
      }
    },
    {
      "cell_type": "code",
      "source": [
        "def even_no(l):\n",
        "  enum=[]\n",
        "  for n in l:\n",
        "    if n % 2==0:\n",
        "        enum.append(n)\n",
        "  return enum\n",
        "print(even_no([1,2,3,4,5,6,7,8,9]))"
      ],
      "metadata": {
        "colab": {
          "base_uri": "https://localhost:8080/"
        },
        "id": "zzbSmDsCSCnz",
        "outputId": "90906f0c-daf8-443e-c69d-5415ec6e8526"
      },
      "execution_count": 35,
      "outputs": [
        {
          "output_type": "stream",
          "name": "stdout",
          "text": [
            "[2, 4, 6, 8]\n"
          ]
        }
      ]
    },
    {
      "cell_type": "markdown",
      "source": [
        "Q4 Write a program to print the sum of items in  a  list.\n",
        "\n",
        "\n"
      ],
      "metadata": {
        "id": "KZ4Li4pcUQOW"
      }
    },
    {
      "cell_type": "code",
      "source": [
        "def sumlist(list):\n",
        "  sum=0\n",
        "  for i in range(len(list)):\n",
        "    sum=sum+list[i]\n",
        "  return sum\n",
        "list=[1,2,3,4,5,6,7,8,9]\n",
        "print(list)\n",
        "print(sumlist(list))"
      ],
      "metadata": {
        "colab": {
          "base_uri": "https://localhost:8080/"
        },
        "id": "XQ7FS7W5UX8x",
        "outputId": "469d040d-c919-4c63-b6c0-37b919e4cdb5"
      },
      "execution_count": 38,
      "outputs": [
        {
          "output_type": "stream",
          "name": "stdout",
          "text": [
            "[1, 2, 3, 4, 5, 6, 7, 8, 9]\n",
            "45\n"
          ]
        }
      ]
    }
  ]
}